{
 "cells": [
  {
   "cell_type": "markdown",
   "id": "e97273c6",
   "metadata": {},
   "source": [
    "# 선형 회귀"
   ]
  },
  {
   "cell_type": "markdown",
   "id": "8c2bca5e",
   "metadata": {},
   "source": [
    "### 정규 방정식을 사용한 선형 회귀"
   ]
  },
  {
   "cell_type": "code",
   "execution_count": 5,
   "id": "d0f824dd",
   "metadata": {},
   "outputs": [],
   "source": [
    "import numpy as np\n",
    "import matplotlib.pyplot as plt\n",
    "np.random.seed(42)"
   ]
  },
  {
   "cell_type": "code",
   "execution_count": 8,
   "id": "13fdc200",
   "metadata": {},
   "outputs": [],
   "source": [
    "X = 2 * np.random.rand(100, 1)\n",
    "y = 3 * X + 4 + np.random.randn(100, 1)"
   ]
  },
  {
   "cell_type": "code",
   "execution_count": 9,
   "id": "5accc6f7",
   "metadata": {},
   "outputs": [
    {
     "data": {
      "text/plain": [
       "[<matplotlib.lines.Line2D at 0x297a902c340>]"
      ]
     },
     "execution_count": 9,
     "metadata": {},
     "output_type": "execute_result"
    },
    {
     "data": {
      "image/png": "[encoded data removed]",
      "text/plain": [
       "<Figure size 432x288 with 1 Axes>"
      ]
     },
     "metadata": {
      "needs_background": "light"
     },
     "output_type": "display_data"
    }
   ],
   "source": [
    "plt.plot(X, y, \"b.\")"
   ]
  },
  {
   "cell_type": "markdown",
   "id": "d011726d",
   "metadata": {},
   "source": [
    "* 넘파이 선형대수 모듈 이용"
   ]
  },
  {
   "cell_type": "code",
   "execution_count": 13,
   "id": "aaa727e8",
   "metadata": {},
   "outputs": [],
   "source": [
    "X_b = np.c_[np.ones((100, 1)), X]"
   ]
  },
  {
   "attachments": {
    "image.png": {
     "image/png": "[encoded data removed]"
    }
   },
   "cell_type": "markdown",
   "id": "e6675113",
   "metadata": {},
   "source": [
    "![image.png](attachment:image.png)"
   ]
  },
  {
   "cell_type": "code",
   "execution_count": 17,
   "id": "a319bb46",
   "metadata": {},
   "outputs": [
    {
     "data": {
      "text/plain": [
       "array([[4.21509616],\n",
       "       [2.77011339]])"
      ]
     },
     "execution_count": 17,
     "metadata": {},
     "output_type": "execute_result"
    }
   ],
   "source": [
    "theta_best = np.linalg.inv(X_b.T.dot(X_b)).dot(X_b.T).dot(y)\n",
    "theta_best"
   ]
  },
  {
   "cell_type": "code",
   "execution_count": 21,
   "id": "bb9960cb",
   "metadata": {},
   "outputs": [
    {
     "data": {
      "text/plain": [
       "array([[1., 0.],\n",
       "       [1., 2.]])"
      ]
     },
     "execution_count": 21,
     "metadata": {},
     "output_type": "execute_result"
    }
   ],
   "source": [
    "X_new = np.array([[0], [2]])\n",
    "X_new_b = np.c_[np.ones((2, 1)), X_new]\n",
    "X_new_b"
   ]
  },
  {
   "cell_type": "code",
   "execution_count": 26,
   "id": "dfc230c0",
   "metadata": {},
   "outputs": [],
   "source": [
    "y_predict = X_new_b.dot(theta_best)"
   ]
  },
  {
   "cell_type": "code",
   "execution_count": 28,
   "id": "07d2d22c",
   "metadata": {},
   "outputs": [
    {
     "data": {
      "image/png": "[encoded data removed]",
      "text/plain": [
       "<Figure size 432x288 with 1 Axes>"
      ]
     },
     "metadata": {
      "needs_background": "light"
     },
     "output_type": "display_data"
    }
   ],
   "source": [
    "plt.plot(X_new, y_predict, \"r-\")\n",
    "plt.plot(X, y, \"b.\")\n",
    "plt.show()"
   ]
  },
  {
   "cell_type": "markdown",
   "id": "ca7c2b87",
   "metadata": {},
   "source": [
    "* 사이킷런 LinearRegression"
   ]
  },
  {
   "cell_type": "code",
   "execution_count": 29,
   "id": "a7a2bad1",
   "metadata": {},
   "outputs": [
    {
     "data": {
      "text/plain": [
       "LinearRegression()"
      ]
     },
     "execution_count": 29,
     "metadata": {},
     "output_type": "execute_result"
    }
   ],
   "source": [
    "from sklearn.linear_model import LinearRegression\n",
    "lin_reg = LinearRegression()\n",
    "lin_reg.fit(X, y)"
   ]
  },
  {
   "cell_type": "code",
   "execution_count": 32,
   "id": "16e3bd36",
   "metadata": {},
   "outputs": [
    {
     "data": {
      "text/plain": [
       "(array([4.21509616]), array([[2.77011339]]))"
      ]
     },
     "execution_count": 32,
     "metadata": {},
     "output_type": "execute_result"
    }
   ],
   "source": [
    "lin_reg.intercept_, lin_reg.coef_"
   ]
  },
  {
   "cell_type": "markdown",
   "id": "a0070488",
   "metadata": {},
   "source": [
    "### 경사 하강법을 사용한 선형 회귀"
   ]
  },
  {
   "cell_type": "code",
   "execution_count": 33,
   "id": "287c9b6c",
   "metadata": {},
   "outputs": [],
   "source": [
    "X_b = np.c_[np.ones((100, 1)), X]\n",
    "X_new_b = np.c_[np.ones((2, 1)), X_new]\n",
    "\n",
    "eta = 0.1\n",
    "n_iterations = 1000\n",
    "m = 100\n",
    "theta = np.random.randn(2,1)\n",
    "\n",
    "for iteration in range(n_iterations):\n",
    "    gradients = 2/m * X_b.T.dot(X_b.dot(theta) - y)\n",
    "    theta = theta - eta * gradients"
   ]
  },
  {
   "cell_type": "code",
   "execution_count": 39,
   "id": "ce2fe590",
   "metadata": {},
   "outputs": [
    {
     "data": {
      "text/plain": [
       "array([[4.21509616],\n",
       "       [2.77011339]])"
      ]
     },
     "execution_count": 39,
     "metadata": {},
     "output_type": "execute_result"
    }
   ],
   "source": [
    "theta"
   ]
  },
  {
   "cell_type": "code",
   "execution_count": 40,
   "id": "683357ef",
   "metadata": {},
   "outputs": [
    {
     "data": {
      "text/plain": [
       "array([[4.21509616],\n",
       "       [9.75532293]])"
      ]
     },
     "execution_count": 40,
     "metadata": {},
     "output_type": "execute_result"
    }
   ],
   "source": [
    "X_new_b.dot(theta) # X_new [[0], [2]]"
   ]
  },
  {
   "cell_type": "markdown",
   "id": "d8dbd685",
   "metadata": {},
   "source": [
    "### 확률적 경사 하강법"
   ]
  },
  {
   "cell_type": "code",
   "execution_count": 51,
   "id": "aa2cacff",
   "metadata": {},
   "outputs": [],
   "source": [
    "m = len(X_b)\n",
    "np.random.seed(42)"
   ]
  },
  {
   "cell_type": "code",
   "execution_count": 53,
   "id": "1bb1e087",
   "metadata": {},
   "outputs": [],
   "source": [
    "n_epochs = 50\n",
    "t0, t1 = 5, 50\n",
    "\n",
    "def learning_schedule(t):\n",
    "    return t0/(t+t1)\n",
    "\n",
    "theta = np.random.randn(2,1) # 무작위 초기화\n",
    "\n",
    "for epoch in range(n_epochs):\n",
    "    for i in range(m):\n",
    "        random_index = np.random.randint(m)\n",
    "        xi = X_b[random_index:random_index+1]  \n",
    "        yi = y[random_index:random_index+1]\n",
    "        gradients = 2 * xi.T.dot(xi.dot(theta) - yi)\n",
    "        eta = learning_schedule(epoch*m + i)\n",
    "        theta = theta - eta * gradients"
   ]
  },
  {
   "cell_type": "code",
   "execution_count": 54,
   "id": "5eb5de48",
   "metadata": {},
   "outputs": [
    {
     "data": {
      "text/plain": [
       "array([[4.18545376],\n",
       "       [2.77900595]])"
      ]
     },
     "execution_count": 54,
     "metadata": {},
     "output_type": "execute_result"
    }
   ],
   "source": [
    "theta"
   ]
  },
  {
   "cell_type": "code",
   "execution_count": 58,
   "id": "d22e1bf7",
   "metadata": {},
   "outputs": [
    {
     "data": {
      "text/plain": [
       "SGDRegressor(eta0=0.1, max_iter=50, penalty=None, random_state=42)"
      ]
     },
     "execution_count": 58,
     "metadata": {},
     "output_type": "execute_result"
    }
   ],
   "source": [
    "from sklearn.linear_model import SGDRegressor\n",
    "sgd_reg = SGDRegressor(max_iter=50, penalty=None, eta0=0.1, random_state=42)\n",
    "sgd_reg.fit(X, y.ravel())"
   ]
  },
  {
   "cell_type": "code",
   "execution_count": 59,
   "id": "4d3f61df",
   "metadata": {},
   "outputs": [
    {
     "data": {
      "text/plain": [
       "(array([4.24365286]), array([2.8250878]))"
      ]
     },
     "execution_count": 59,
     "metadata": {},
     "output_type": "execute_result"
    }
   ],
   "source": [
    "sgd_reg.intercept_, sgd_reg.coef_"
   ]
  },
  {
   "cell_type": "markdown",
   "id": "9865168d",
   "metadata": {},
   "source": [
    "### 다항 회귀"
   ]
  },
  {
   "cell_type": "code",
   "execution_count": 70,
   "id": "019bb3ef",
   "metadata": {},
   "outputs": [],
   "source": [
    "np.random.seed(42)\n",
    "\n",
    "m = 100\n",
    "X = 6 * np.random.rand(m, 1) - 3\n",
    "y = 0.5 * X**2 + X + 2 + np.random.randn(m, 1)\n",
    "\n",
    "plt.plot(X, y, 'b.')"
   ]
  },
  {
   "cell_type": "code",
   "execution_count": 73,
   "id": "839a6578",
   "metadata": {},
   "outputs": [],
   "source": [
    "from sklearn.preprocessing import PolynomialFeatures"
   ]
  },
  {
   "cell_type": "code",
   "execution_count": 74,
   "id": "3ffcdc23",
   "metadata": {},
   "outputs": [],
   "source": [
    "poly_features = PolynomialFeatures(degree=2, include_bias=False)\n",
    "X_poly = poly_features.fit_transform(X)"
   ]
  },
  {
   "cell_type": "code",
   "execution_count": 75,
   "id": "8712f288",
   "metadata": {},
   "outputs": [
    {
     "data": {
      "text/plain": [
       "(array([-0.75275929]), array([-0.75275929,  0.56664654]))"
      ]
     },
     "execution_count": 75,
     "metadata": {},
     "output_type": "execute_result"
    }
   ],
   "source": [
    "X[0], X_poly[0]"
   ]
  },
  {
   "cell_type": "code",
   "execution_count": 76,
   "id": "7f3f90fd",
   "metadata": {},
   "outputs": [
    {
     "data": {
      "text/plain": [
       "['x0', 'x0^2']"
      ]
     },
     "execution_count": 76,
     "metadata": {},
     "output_type": "execute_result"
    }
   ],
   "source": [
    "poly_features.get_feature_names()"
   ]
  },
  {
   "cell_type": "code",
   "execution_count": 77,
   "id": "d2c7e522",
   "metadata": {},
   "outputs": [
    {
     "data": {
      "text/plain": [
       "(array([1.78134581]), array([[0.93366893, 0.56456263]]))"
      ]
     },
     "execution_count": 77,
     "metadata": {},
     "output_type": "execute_result"
    }
   ],
   "source": [
    "lin_reg = LinearRegression()\n",
    "lin_reg.fit(X_poly, y)\n",
    "lin_reg.intercept_, lin_reg.coef_"
   ]
  },
  {
   "cell_type": "code",
   "execution_count": 90,
   "id": "be3fe806",
   "metadata": {
    "scrolled": true
   },
   "outputs": [
    {
     "data": {
      "image/png": "[encoded data removed]",
      "text/plain": [
       "<Figure size 432x288 with 1 Axes>"
      ]
     },
     "metadata": {
      "needs_background": "light"
     },
     "output_type": "display_data"
    }
   ],
   "source": [
    "X_new = np.linspace(-3, 3, 100).reshape(100, 1)\n",
    "X_new_poly = poly_features.transform(X_new)\n",
    "\n",
    "y_new = lin_reg.predict(X_new_poly)\n",
    "\n",
    "plt.plot(X_new, y_new, \"r-\")\n",
    "plt.plot(X, y, 'b.')\n",
    "plt.show()"
   ]
  },
  {
   "cell_type": "markdown",
   "id": "6aac5fa8",
   "metadata": {},
   "source": [
    "### 규제가 있는 모델"
   ]
  },
  {
   "cell_type": "code",
   "execution_count": 91,
   "id": "c402b927",
   "metadata": {},
   "outputs": [
    {
     "data": {
      "text/plain": [
       "[<matplotlib.lines.Line2D at 0x297abc03970>]"
      ]
     },
     "execution_count": 91,
     "metadata": {},
     "output_type": "execute_result"
    },
    {
     "data": {
      "image/png": "[encoded data removed]",
      "text/plain": [
       "<Figure size 432x288 with 1 Axes>"
      ]
     },
     "metadata": {
      "needs_background": "light"
     },
     "output_type": "display_data"
    }
   ],
   "source": [
    "np.random.seed(42)\n",
    "m = 20\n",
    "X = 3 * np.random.rand(m, 1)\n",
    "y = 0.5 * X + 1 + np.random.randn(m, 1) / 1.5\n",
    "plt.plot(X, y, \"b.\")"
   ]
  },
  {
   "cell_type": "markdown",
   "id": "ea0f57a6",
   "metadata": {},
   "source": [
    "#### 선형 모델(규제 없이)"
   ]
  },
  {
   "cell_type": "code",
   "execution_count": 111,
   "id": "dba64c14",
   "metadata": {},
   "outputs": [
    {
     "data": {
      "text/plain": [
       "array([1.55355842])"
      ]
     },
     "execution_count": 111,
     "metadata": {},
     "output_type": "execute_result"
    }
   ],
   "source": [
    "lin_reg = LinearRegression()\n",
    "lin_reg.fit(X, y.ravel())\n",
    "\n",
    "lin_reg.predict([[1.5]])"
   ]
  },
  {
   "cell_type": "code",
   "execution_count": 112,
   "id": "952a20d5",
   "metadata": {},
   "outputs": [
    {
     "data": {
      "text/plain": [
       "(0.9757366686668743, array([0.3852145]))"
      ]
     },
     "execution_count": 112,
     "metadata": {},
     "output_type": "execute_result"
    }
   ],
   "source": [
    "lin_reg.intercept_, lin_reg.coef_   # 0.5x + 1"
   ]
  },
  {
   "cell_type": "markdown",
   "id": "9689dea9",
   "metadata": {},
   "source": [
    "#### 릿지 회귀"
   ]
  },
  {
   "cell_type": "code",
   "execution_count": 115,
   "id": "51b468f1",
   "metadata": {},
   "outputs": [
    {
     "data": {
      "text/plain": [
       "array([1.55071465])"
      ]
     },
     "execution_count": 115,
     "metadata": {},
     "output_type": "execute_result"
    }
   ],
   "source": [
    "from sklearn.linear_model import Ridge\n",
    "\n",
    "ridge_reg = Ridge(alpha=1, solver=\"cholesky\", random_state=42)\n",
    "ridge_reg.fit(X, y.ravel())\n",
    "\n",
    "ridge_reg.predict([[1.5]])"
   ]
  },
  {
   "cell_type": "code",
   "execution_count": 116,
   "id": "08058a3c",
   "metadata": {},
   "outputs": [
    {
     "data": {
      "text/plain": [
       "(1.0065091134341868, array([0.36280369]))"
      ]
     },
     "execution_count": 116,
     "metadata": {},
     "output_type": "execute_result"
    }
   ],
   "source": [
    "ridge_reg.intercept_, ridge_reg.coef_  # 규제가 들어갔을때 coef_ 값이 줄어들었음 (intecept_는 규제 안됨)"
   ]
  },
  {
   "cell_type": "code",
   "execution_count": 103,
   "id": "d538d1c2",
   "metadata": {},
   "outputs": [
    {
     "data": {
      "text/plain": [
       "array([1.47012588])"
      ]
     },
     "execution_count": 103,
     "metadata": {},
     "output_type": "execute_result"
    }
   ],
   "source": [
    "sgd_reg = SGDRegressor(penalty='l2', random_state=42)\n",
    "sgd_reg.fit(X, y.ravel())\n",
    "\n",
    "sgd_reg.predict([[1.5]])"
   ]
  },
  {
   "cell_type": "markdown",
   "id": "fad2f159",
   "metadata": {},
   "source": [
    "#### 라소 회귀"
   ]
  },
  {
   "cell_type": "code",
   "execution_count": 105,
   "id": "8a4bc126",
   "metadata": {},
   "outputs": [
    {
     "data": {
      "text/plain": [
       "array([1.50467735])"
      ]
     },
     "execution_count": 105,
     "metadata": {},
     "output_type": "execute_result"
    }
   ],
   "source": [
    "from sklearn.linear_model import Lasso\n",
    "\n",
    "lasso_reg = Lasso()\n",
    "lasso_reg.fit(X, y.ravel())\n",
    "\n",
    "lasso_reg.predict([[1.5]])"
   ]
  },
  {
   "cell_type": "code",
   "execution_count": 106,
   "id": "32958e8e",
   "metadata": {},
   "outputs": [
    {
     "data": {
      "text/plain": [
       "array([1.47011206])"
      ]
     },
     "execution_count": 106,
     "metadata": {},
     "output_type": "execute_result"
    }
   ],
   "source": [
    "sgd_reg = SGDRegressor(penalty='l1', random_state=42)\n",
    "sgd_reg.fit(X, y.ravel())\n",
    "\n",
    "sgd_reg.predict([[1.5]])"
   ]
  },
  {
   "cell_type": "markdown",
   "id": "dccaf54d",
   "metadata": {},
   "source": [
    "#### 엘라스틱넷"
   ]
  },
  {
   "cell_type": "code",
   "execution_count": 108,
   "id": "524d5fd6",
   "metadata": {},
   "outputs": [
    {
     "data": {
      "text/plain": [
       "array([1.50467735])"
      ]
     },
     "execution_count": 108,
     "metadata": {},
     "output_type": "execute_result"
    }
   ],
   "source": [
    "from sklearn.linear_model import ElasticNet\n",
    "\n",
    "elastic_net = ElasticNet(random_state=42)\n",
    "elastic_net.fit(X, y.ravel())\n",
    "\n",
    "elastic_net.predict([[1.5]])"
   ]
  },
  {
   "cell_type": "code",
   "execution_count": 109,
   "id": "8f213ad8",
   "metadata": {},
   "outputs": [
    {
     "data": {
      "text/plain": [
       "array([1.47012381])"
      ]
     },
     "execution_count": 109,
     "metadata": {},
     "output_type": "execute_result"
    }
   ],
   "source": [
    "sgd_reg = SGDRegressor(penalty='elasticnet', random_state=42)\n",
    "sgd_reg.fit(X, y.ravel())\n",
    "\n",
    "sgd_reg.predict([[1.5]])"
   ]
  },
  {
   "cell_type": "code",
   "execution_count": null,
   "id": "720d5633",
   "metadata": {},
   "outputs": [],
   "source": []
  }
 ],
 "metadata": {
  "kernelspec": {
   "display_name": "Python 3 (ipykernel)",
   "language": "python",
   "name": "python3"
  },
  "language_info": {
   "codemirror_mode": {
    "name": "ipython",
    "version": 3
   },
   "file_extension": ".py",
   "mimetype": "text/x-python",
   "name": "python",
   "nbconvert_exporter": "python",
   "pygments_lexer": "ipython3",
   "version": "3.9.7"
  }
 },
 "nbformat": 4,
 "nbformat_minor": 5
}
